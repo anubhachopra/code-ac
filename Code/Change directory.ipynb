{
 "cells": [
  {
   "cell_type": "code",
   "execution_count": 6,
   "id": "50bff7f8",
   "metadata": {},
   "outputs": [
    {
     "name": "stdout",
     "output_type": "stream",
     "text": [
      "Updated notebook: /Users/Anubha/Library/CloudStorage/OneDrive-DrexelUniversity/Anubha & Dr. T - Shared/Urban Regulatory projects/Urban Final/Code/State-wise Notebooks/Merging-HAWAII.ipynb\n",
      "Updated notebook: /Users/Anubha/Library/CloudStorage/OneDrive-DrexelUniversity/Anubha & Dr. T - Shared/Urban Regulatory projects/Urban Final/Code/State-wise Notebooks/Merging-WISCONSIN.ipynb\n",
      "Updated notebook: /Users/Anubha/Library/CloudStorage/OneDrive-DrexelUniversity/Anubha & Dr. T - Shared/Urban Regulatory projects/Urban Final/Code/State-wise Notebooks/Merging-TEXAS.ipynb\n",
      "Updated notebook: /Users/Anubha/Library/CloudStorage/OneDrive-DrexelUniversity/Anubha & Dr. T - Shared/Urban Regulatory projects/Urban Final/Code/State-wise Notebooks/Merging-VERMONT.ipynb\n",
      "Updated notebook: /Users/Anubha/Library/CloudStorage/OneDrive-DrexelUniversity/Anubha & Dr. T - Shared/Urban Regulatory projects/Urban Final/Code/State-wise Notebooks/Merging-FLORIDA.ipynb\n",
      "Updated notebook: /Users/Anubha/Library/CloudStorage/OneDrive-DrexelUniversity/Anubha & Dr. T - Shared/Urban Regulatory projects/Urban Final/Code/State-wise Notebooks/Merging-KANSAS.ipynb\n",
      "Updated notebook: /Users/Anubha/Library/CloudStorage/OneDrive-DrexelUniversity/Anubha & Dr. T - Shared/Urban Regulatory projects/Urban Final/Code/State-wise Notebooks/Merging-VIRGINIA.ipynb\n",
      "Updated notebook: /Users/Anubha/Library/CloudStorage/OneDrive-DrexelUniversity/Anubha & Dr. T - Shared/Urban Regulatory projects/Urban Final/Code/State-wise Notebooks/Merging-ALABAMA.ipynb\n",
      "Updated notebook: /Users/Anubha/Library/CloudStorage/OneDrive-DrexelUniversity/Anubha & Dr. T - Shared/Urban Regulatory projects/Urban Final/Code/State-wise Notebooks/Merging-NORTH DAKOTA.ipynb\n",
      "Updated notebook: /Users/Anubha/Library/CloudStorage/OneDrive-DrexelUniversity/Anubha & Dr. T - Shared/Urban Regulatory projects/Urban Final/Code/State-wise Notebooks/Merging-UTAH.ipynb\n",
      "Updated notebook: /Users/Anubha/Library/CloudStorage/OneDrive-DrexelUniversity/Anubha & Dr. T - Shared/Urban Regulatory projects/Urban Final/Code/State-wise Notebooks/Merging-CONNECTICUT.ipynb\n",
      "Updated notebook: /Users/Anubha/Library/CloudStorage/OneDrive-DrexelUniversity/Anubha & Dr. T - Shared/Urban Regulatory projects/Urban Final/Code/State-wise Notebooks/Merging-NEVADA.ipynb\n",
      "No changes needed for: /Users/Anubha/Library/CloudStorage/OneDrive-DrexelUniversity/Anubha & Dr. T - Shared/Urban Regulatory projects/Urban Final/Code/State-wise Notebooks/Merging-ILLINOIS.ipynb\n",
      "Updated notebook: /Users/Anubha/Library/CloudStorage/OneDrive-DrexelUniversity/Anubha & Dr. T - Shared/Urban Regulatory projects/Urban Final/Code/State-wise Notebooks/Merging-GEORGIA.ipynb\n",
      "Updated notebook: /Users/Anubha/Library/CloudStorage/OneDrive-DrexelUniversity/Anubha & Dr. T - Shared/Urban Regulatory projects/Urban Final/Code/State-wise Notebooks/Merging-MASSACHUSETTS.ipynb\n",
      "Updated notebook: /Users/Anubha/Library/CloudStorage/OneDrive-DrexelUniversity/Anubha & Dr. T - Shared/Urban Regulatory projects/Urban Final/Code/State-wise Notebooks/Merging-NEW JERSEY.ipynb\n",
      "Updated notebook: /Users/Anubha/Library/CloudStorage/OneDrive-DrexelUniversity/Anubha & Dr. T - Shared/Urban Regulatory projects/Urban Final/Code/State-wise Notebooks/Merging-MAINE.ipynb\n",
      "Updated notebook: /Users/Anubha/Library/CloudStorage/OneDrive-DrexelUniversity/Anubha & Dr. T - Shared/Urban Regulatory projects/Urban Final/Code/State-wise Notebooks/Merging-LOUISIANA.ipynb\n",
      "Updated notebook: /Users/Anubha/Library/CloudStorage/OneDrive-DrexelUniversity/Anubha & Dr. T - Shared/Urban Regulatory projects/Urban Final/Code/State-wise Notebooks/Merging-NEBRASKA.ipynb\n",
      "Updated notebook: /Users/Anubha/Library/CloudStorage/OneDrive-DrexelUniversity/Anubha & Dr. T - Shared/Urban Regulatory projects/Urban Final/Code/State-wise Notebooks/Merging-DELAWARE.ipynb\n",
      "Updated notebook: /Users/Anubha/Library/CloudStorage/OneDrive-DrexelUniversity/Anubha & Dr. T - Shared/Urban Regulatory projects/Urban Final/Code/State-wise Notebooks/Merging-ALASKA.ipynb\n",
      "Updated notebook: /Users/Anubha/Library/CloudStorage/OneDrive-DrexelUniversity/Anubha & Dr. T - Shared/Urban Regulatory projects/Urban Final/Code/State-wise Notebooks/Merging-RHODE ISLAND.ipynb\n",
      "Updated notebook: /Users/Anubha/Library/CloudStorage/OneDrive-DrexelUniversity/Anubha & Dr. T - Shared/Urban Regulatory projects/Urban Final/Code/State-wise Notebooks/Merging-WYOMING.ipynb\n",
      "Updated notebook: /Users/Anubha/Library/CloudStorage/OneDrive-DrexelUniversity/Anubha & Dr. T - Shared/Urban Regulatory projects/Urban Final/Code/State-wise Notebooks/Merging-NEW MEXICO.ipynb\n",
      "Updated notebook: /Users/Anubha/Library/CloudStorage/OneDrive-DrexelUniversity/Anubha & Dr. T - Shared/Urban Regulatory projects/Urban Final/Code/State-wise Notebooks/Merging-NEW YORK.ipynb\n",
      "Updated notebook: /Users/Anubha/Library/CloudStorage/OneDrive-DrexelUniversity/Anubha & Dr. T - Shared/Urban Regulatory projects/Urban Final/Code/State-wise Notebooks/Merging-NEW HAMPSHIRE.ipynb\n",
      "Updated notebook: /Users/Anubha/Library/CloudStorage/OneDrive-DrexelUniversity/Anubha & Dr. T - Shared/Urban Regulatory projects/Urban Final/Code/State-wise Notebooks/Merging-MONTANA.ipynb\n",
      "Updated notebook: /Users/Anubha/Library/CloudStorage/OneDrive-DrexelUniversity/Anubha & Dr. T - Shared/Urban Regulatory projects/Urban Final/Code/State-wise Notebooks/Merging-SOUTH DAKOTA.ipynb\n",
      "Updated notebook: /Users/Anubha/Library/CloudStorage/OneDrive-DrexelUniversity/Anubha & Dr. T - Shared/Urban Regulatory projects/Urban Final/Code/State-wise Notebooks/Merging-KENTUCKY.ipynb\n",
      "Updated notebook: /Users/Anubha/Library/CloudStorage/OneDrive-DrexelUniversity/Anubha & Dr. T - Shared/Urban Regulatory projects/Urban Final/Code/State-wise Notebooks/Merging-IDAHO.ipynb\n",
      "Updated notebook: /Users/Anubha/Library/CloudStorage/OneDrive-DrexelUniversity/Anubha & Dr. T - Shared/Urban Regulatory projects/Urban Final/Code/State-wise Notebooks/Merging-IOWA.ipynb\n",
      "Updated notebook: /Users/Anubha/Library/CloudStorage/OneDrive-DrexelUniversity/Anubha & Dr. T - Shared/Urban Regulatory projects/Urban Final/Code/State-wise Notebooks/Merging-WASHINGTON.ipynb\n",
      "Updated notebook: /Users/Anubha/Library/CloudStorage/OneDrive-DrexelUniversity/Anubha & Dr. T - Shared/Urban Regulatory projects/Urban Final/Code/State-wise Notebooks/Merging-ARIZONA.ipynb\n",
      "Updated notebook: /Users/Anubha/Library/CloudStorage/OneDrive-DrexelUniversity/Anubha & Dr. T - Shared/Urban Regulatory projects/Urban Final/Code/State-wise Notebooks/Merging-MARYLAND.ipynb\n",
      "Updated notebook: /Users/Anubha/Library/CloudStorage/OneDrive-DrexelUniversity/Anubha & Dr. T - Shared/Urban Regulatory projects/Urban Final/Code/State-wise Notebooks/Merging-OKLAHOMA.ipynb\n",
      "Updated notebook: /Users/Anubha/Library/CloudStorage/OneDrive-DrexelUniversity/Anubha & Dr. T - Shared/Urban Regulatory projects/Urban Final/Code/State-wise Notebooks/Merging-OREGON.ipynb\n",
      "Updated notebook: /Users/Anubha/Library/CloudStorage/OneDrive-DrexelUniversity/Anubha & Dr. T - Shared/Urban Regulatory projects/Urban Final/Code/State-wise Notebooks/Merging-INDIANA.ipynb\n",
      "Updated notebook: /Users/Anubha/Library/CloudStorage/OneDrive-DrexelUniversity/Anubha & Dr. T - Shared/Urban Regulatory projects/Urban Final/Code/State-wise Notebooks/Merging-SOUTH CAROLINA.ipynb\n",
      "Updated notebook: /Users/Anubha/Library/CloudStorage/OneDrive-DrexelUniversity/Anubha & Dr. T - Shared/Urban Regulatory projects/Urban Final/Code/State-wise Notebooks/Merging-MISSOURI.ipynb\n",
      "Updated notebook: /Users/Anubha/Library/CloudStorage/OneDrive-DrexelUniversity/Anubha & Dr. T - Shared/Urban Regulatory projects/Urban Final/Code/State-wise Notebooks/Merging-CALIFORNIA.ipynb\n",
      "Updated notebook: /Users/Anubha/Library/CloudStorage/OneDrive-DrexelUniversity/Anubha & Dr. T - Shared/Urban Regulatory projects/Urban Final/Code/State-wise Notebooks/Merging-WEST VIRGINIA.ipynb\n",
      "Updated notebook: /Users/Anubha/Library/CloudStorage/OneDrive-DrexelUniversity/Anubha & Dr. T - Shared/Urban Regulatory projects/Urban Final/Code/State-wise Notebooks/Merging-PENNSYLVANIA.ipynb\n",
      "Updated notebook: /Users/Anubha/Library/CloudStorage/OneDrive-DrexelUniversity/Anubha & Dr. T - Shared/Urban Regulatory projects/Urban Final/Code/State-wise Notebooks/Merging-MICHIGAN.ipynb\n",
      "Updated notebook: /Users/Anubha/Library/CloudStorage/OneDrive-DrexelUniversity/Anubha & Dr. T - Shared/Urban Regulatory projects/Urban Final/Code/State-wise Notebooks/Merging-OHIO.ipynb\n"
     ]
    },
    {
     "name": "stdout",
     "output_type": "stream",
     "text": [
      "Updated notebook: /Users/Anubha/Library/CloudStorage/OneDrive-DrexelUniversity/Anubha & Dr. T - Shared/Urban Regulatory projects/Urban Final/Code/State-wise Notebooks/Merging-TENNESSEE.ipynb\n",
      "Updated notebook: /Users/Anubha/Library/CloudStorage/OneDrive-DrexelUniversity/Anubha & Dr. T - Shared/Urban Regulatory projects/Urban Final/Code/State-wise Notebooks/Merging-NORTH CAROLINA.ipynb\n",
      "Updated notebook: /Users/Anubha/Library/CloudStorage/OneDrive-DrexelUniversity/Anubha & Dr. T - Shared/Urban Regulatory projects/Urban Final/Code/State-wise Notebooks/Merging-DC.ipynb\n",
      "Updated notebook: /Users/Anubha/Library/CloudStorage/OneDrive-DrexelUniversity/Anubha & Dr. T - Shared/Urban Regulatory projects/Urban Final/Code/State-wise Notebooks/Merging-COLORADO.ipynb\n",
      "Updated notebook: /Users/Anubha/Library/CloudStorage/OneDrive-DrexelUniversity/Anubha & Dr. T - Shared/Urban Regulatory projects/Urban Final/Code/State-wise Notebooks/Merging-ARKANSAS.ipynb\n",
      "Updated notebook: /Users/Anubha/Library/CloudStorage/OneDrive-DrexelUniversity/Anubha & Dr. T - Shared/Urban Regulatory projects/Urban Final/Code/State-wise Notebooks/Merging-MINNESOTA.ipynb\n",
      "Updated notebook: /Users/Anubha/Library/CloudStorage/OneDrive-DrexelUniversity/Anubha & Dr. T - Shared/Urban Regulatory projects/Urban Final/Code/State-wise Notebooks/Merging-MISSISSIPPI.ipynb\n"
     ]
    }
   ],
   "source": [
    "import nbformat\n",
    "import os\n",
    "\n",
    "def update_notebook_directory(notebook_path, old_directory, new_directory):\n",
    "    try:\n",
    "        with open(notebook_path, 'r', encoding='utf-8') as f:\n",
    "            notebook = nbformat.read(f, as_version=4)\n",
    "        \n",
    "        changed = False\n",
    "        for cell in notebook['cells']:\n",
    "            if cell['cell_type'] == 'code':\n",
    "                cell_source = cell['source']\n",
    "                if old_directory in cell_source:\n",
    "                    cell['source'] = cell_source.replace(old_directory, new_directory)\n",
    "                    changed = True\n",
    "        \n",
    "        if changed:\n",
    "            with open(notebook_path, 'w', encoding='utf-8') as f:\n",
    "                nbformat.write(notebook, f)\n",
    "            print(f\"Updated notebook: {notebook_path}\")\n",
    "        else:\n",
    "            print(f\"No changes needed for: {notebook_path}\")\n",
    "\n",
    "    except Exception as e:\n",
    "        print(f\"Error processing notebook {notebook_path}: {e}\")\n",
    "\n",
    "def update_notebooks_in_directory(directory, old_directory, new_directory):\n",
    "    for filename in os.listdir(directory):\n",
    "        if filename.endswith('.ipynb'):\n",
    "            notebook_path = os.path.join(directory, filename)\n",
    "            update_notebook_directory(notebook_path, old_directory, new_directory)\n",
    "\n",
    "            \n",
    "# Usage\n",
    "\n",
    "state_notebooks_directory = \"/Users/Anubha/Library/CloudStorage/OneDrive-DrexelUniversity/Anubha & Dr. T - Shared/Urban Regulatory projects/Urban Final/Code/State-wise Notebooks\"\n",
    "old_dir = \"C:/Users/ac4296/OneDrive - Drexel University/Anubha & Dr. T - Shared/Urban Regulatory projects/Urban Final\"\n",
    "new_dir = \"\"\n",
    "\n",
    "update_notebooks_in_directory(state_notebooks_directory, old_dir, new_dir)\n"
   ]
  },
  {
   "cell_type": "code",
   "execution_count": null,
   "id": "6b869413",
   "metadata": {},
   "outputs": [],
   "source": []
  }
 ],
 "metadata": {
  "kernelspec": {
   "display_name": "Python 3",
   "language": "python",
   "name": "python3"
  },
  "language_info": {
   "codemirror_mode": {
    "name": "ipython",
    "version": 3
   },
   "file_extension": ".py",
   "mimetype": "text/x-python",
   "name": "python",
   "nbconvert_exporter": "python",
   "pygments_lexer": "ipython3",
   "version": "3.6.13"
  }
 },
 "nbformat": 4,
 "nbformat_minor": 5
}
