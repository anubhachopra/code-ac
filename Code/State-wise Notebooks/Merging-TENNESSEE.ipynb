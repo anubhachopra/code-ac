{
 "cells": [
  {
   "cell_type": "code",
   "execution_count": 1,
   "id": "ebef52ee",
   "metadata": {
    "execution": {
     "iopub.execute_input": "2023-12-11T14:37:25.600559Z",
     "iopub.status.busy": "2023-12-11T14:37:25.598947Z",
     "iopub.status.idle": "2023-12-11T14:37:28.626306Z",
     "shell.execute_reply": "2023-12-11T14:37:28.628386Z"
    },
    "papermill": {
     "duration": 3.054504,
     "end_time": "2023-12-11T14:37:28.629125",
     "exception": false,
     "start_time": "2023-12-11T14:37:25.574621",
     "status": "completed"
    },
    "tags": []
   },
   "outputs": [],
   "source": [
    "import pandas as pd\n",
    "\n",
    "import warnings\n",
    "\n",
    "# Suppress all warnings\n",
    "warnings.filterwarnings(\"ignore\")\n",
    "\n",
    "directory = ''\n",
    "\n",
    "# Load your Excel file using openpyxl\n",
    "df1 = pd.read_excel(f'{directory}/Output/Formating Urban/Section_codes_current.xlsx', header=0, engine='openpyxl')\n",
    "\n",
    "# Loading legal data\n",
    "df2 = pd.read_csv(f'{directory}/Data/master_table1.csv')\n",
    "\n",
    "\n",
    "# Creating subset of data (enter lowercase)\n",
    "desired_state1 = \"Tennessee\"\n",
    "desired_state2 = \"tennessee\"\n",
    "subset_df1 = df1[df1['STATE'] == desired_state1]\n",
    "subset_df2 = df2[df2['State'] == desired_state2]\n",
    "\n",
    "# # Check for NA\n",
    "# if subset_df2['section'].isna().any():\n",
    "#     print(\"The 'section' column contains missing values.\")\n",
    "# else:\n",
    "#     print(\"The 'section' column does not contain missing values.\")\n",
    "\n",
    "# Clean section column\n",
    "subset_df2['division'] = subset_df2['division'].str.replace('section-', '', case=False)\n",
    "subset_df2['section'] = subset_df2['section'].str.replace('section-', '', case=False)\n",
    "# subset_df2['section'] = subset_df2['section'].str.replace('-', '.')  # Replace first hyphen with colon\n",
    "# subset_df2['section'] = subset_df2['section'].str.upper()\n",
    "# subset_df2['section'] = subset_df2['section'].apply(lambda x: x[:x.rfind('-')] + '.' + x[x.rfind('-')+1:])\n",
    "\n",
    "# subset_df2.head(5)\n",
    "\n",
    "# Merge\n",
    "merged_df1 = pd.merge(subset_df1, subset_df2[['State', 'division', 'section', 'text']],\n",
    "                     left_on='Section Code', right_on='division', how='left')\n",
    "\n",
    "merged_df2 = pd.merge(subset_df1, subset_df2[['State', 'division', 'section', 'text']],\n",
    "                         left_on='Section Code', right_on='section', how='left')\n",
    "\n",
    "\n",
    "merged_df3 = merged_df1.combine_first(merged_df2)\n",
    "\n",
    "\n",
    "# merged_df.head()\n",
    "\n",
    "# Save the merged data to an Excel file\n",
    "merged_df3.to_excel(f'{directory}/Output/Matching Urban to Drexel/Section_codes_merged_{desired_state2}.xlsx', index=False)\n"
   ]
  },
  {
   "cell_type": "code",
   "execution_count": null,
   "id": "5087d676",
   "metadata": {
    "papermill": {
     "duration": 0.014775,
     "end_time": "2023-12-11T14:37:28.656807",
     "exception": false,
     "start_time": "2023-12-11T14:37:28.642032",
     "status": "completed"
    },
    "tags": []
   },
   "outputs": [],
   "source": []
  }
 ],
 "metadata": {
  "kernelspec": {
   "display_name": "Python 3",
   "language": "python",
   "name": "python3"
  },
  "language_info": {
   "codemirror_mode": {
    "name": "ipython",
    "version": 3
   },
   "file_extension": ".py",
   "mimetype": "text/x-python",
   "name": "python",
   "nbconvert_exporter": "python",
   "pygments_lexer": "ipython3",
   "version": "3.6.13"
  },
  "papermill": {
   "default_parameters": {},
   "duration": 4.802938,
   "end_time": "2023-12-11T14:37:29.103679",
   "environment_variables": {},
   "exception": null,
   "input_path": "/Users/Anubha/Downloads/Regulatory Project/Merging-TENNESSEE.ipynb",
   "output_path": "/Users/Anubha/Downloads/Regulatory Project/Merging-TENNESSEE.ipynb",
   "parameters": {},
   "start_time": "2023-12-11T14:37:24.300741",
   "version": "2.3.4"
  }
 },
 "nbformat": 4,
 "nbformat_minor": 5
}
