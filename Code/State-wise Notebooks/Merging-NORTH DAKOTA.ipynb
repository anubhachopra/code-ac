{
 "cells": [
  {
   "cell_type": "code",
   "execution_count": 1,
   "id": "ebef52ee",
   "metadata": {
    "execution": {
     "iopub.execute_input": "2023-12-11T14:34:38.331418Z",
     "iopub.status.busy": "2023-12-11T14:34:38.329714Z",
     "iopub.status.idle": "2023-12-11T14:34:40.661770Z",
     "shell.execute_reply": "2023-12-11T14:34:40.662849Z"
    },
    "papermill": {
     "duration": 2.351127,
     "end_time": "2023-12-11T14:34:40.663203",
     "exception": false,
     "start_time": "2023-12-11T14:34:38.312076",
     "status": "completed"
    },
    "tags": []
   },
   "outputs": [],
   "source": [
    "import pandas as pd\n",
    "\n",
    "import warnings\n",
    "\n",
    "# Suppress all warnings\n",
    "warnings.filterwarnings(\"ignore\")\n",
    "\n",
    "directory = ''\n",
    "\n",
    "# Load your Excel file using openpyxl\n",
    "df1 = pd.read_excel(f'{directory}/Output/Formating Urban/Section_codes_current.xlsx', header=0, engine='openpyxl')\n",
    "\n",
    "# Loading legal data\n",
    "df2 = pd.read_csv(f'{directory}/Data/northdmod.csv')\n",
    "\n",
    "# Creating subset of data (enter lowercase)\n",
    "desired_state1 = \"North Dakota\"\n",
    "desired_state2 = \"north dakota\"\n",
    "subset_df1 = df1[df1['STATE'] == desired_state1]\n",
    "# subset_df2 = df2[df2['State'] == desired_state2]\n",
    "\n",
    "# # Check for NA\n",
    "# if subset_df2['section'].isna().any():\n",
    "#     print(\"The 'section' column contains missing values.\")\n",
    "# else:\n",
    "#     print(\"The 'section' column does not contain missing values.\")\n",
    "\n",
    "pattern = r'(\\d{1,4}_\\d{1,4}_\\d{1,4})'\n",
    "df2['section'] = df2['0'].str.extract(pattern)\n",
    "df2['section'] = df2['section'].str.replace('_', '-', case=False)\n",
    "\n",
    "# subset_df2['section'] = subset_df2['section'].str.upper()\n",
    "# subset_df2['section'] = subset_df2['section'].apply(lambda x: x[:x.rfind('-')] + '.' + x[x.rfind('-')+1:])\n",
    "\n",
    "# subset_df2.head(5)\n",
    "\n",
    "# Merge the subsetted dataframes on 'Section Code' and 'Section'\n",
    "merged_df = pd.merge(subset_df1, df2[['section','0','1','text']], left_on='Section Code', right_on='section', how='left')\n",
    "\n",
    "# merged_df.head()\n",
    "\n",
    "# Save the merged data to an Excel file\n",
    "merged_df.to_excel(f'{directory}/Output/Matching Urban to Drexel/Section_codes_merged_{desired_state2}.xlsx', index=False)\n",
    "\n"
   ]
  },
  {
   "cell_type": "code",
   "execution_count": null,
   "id": "35df2a06",
   "metadata": {
    "papermill": {
     "duration": 0.004692,
     "end_time": "2023-12-11T14:34:40.675907",
     "exception": false,
     "start_time": "2023-12-11T14:34:40.671215",
     "status": "completed"
    },
    "tags": []
   },
   "outputs": [],
   "source": []
  }
 ],
 "metadata": {
  "kernelspec": {
   "display_name": "Python 3",
   "language": "python",
   "name": "python3"
  },
  "language_info": {
   "codemirror_mode": {
    "name": "ipython",
    "version": 3
   },
   "file_extension": ".py",
   "mimetype": "text/x-python",
   "name": "python",
   "nbconvert_exporter": "python",
   "pygments_lexer": "ipython3",
   "version": "3.6.13"
  },
  "papermill": {
   "default_parameters": {},
   "duration": 3.947021,
   "end_time": "2023-12-11T14:34:41.113690",
   "environment_variables": {},
   "exception": null,
   "input_path": "/Users/Anubha/Downloads/Regulatory Project/Merging-NORTH DAKOTA.ipynb",
   "output_path": "/Users/Anubha/Downloads/Regulatory Project/Merging-NORTH DAKOTA.ipynb",
   "parameters": {},
   "start_time": "2023-12-11T14:34:37.166669",
   "version": "2.3.4"
  }
 },
 "nbformat": 4,
 "nbformat_minor": 5
}
