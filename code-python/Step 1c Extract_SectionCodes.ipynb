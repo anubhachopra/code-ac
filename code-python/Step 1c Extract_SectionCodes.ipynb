{
 "cells": [
  {
   "cell_type": "code",
   "execution_count": 30,
   "id": "341ef51d",
   "metadata": {},
   "outputs": [],
   "source": [
    "import pandas as pd\n",
    "import re"
   ]
  },
  {
   "cell_type": "code",
   "execution_count": 31,
   "id": "56f31fee",
   "metadata": {},
   "outputs": [],
   "source": [
    "directory = 'C:/Users/ac4296/OneDrive - Drexel University/Anubha & Dr. T - Shared/Urban Regulatory projects/Urban Final'\n",
    "file_path = f\"{directory}/Output/Step 1a Back(sources) transposed.csv\"\n",
    "file_path2 = f\"{directory}/Output/Step 1b Back(sources) transposed - Regulation Indicator.csv\"\n",
    "output_path = f\"{directory}/Output/Formating Urban\""
   ]
  },
  {
   "cell_type": "code",
   "execution_count": 32,
   "id": "5483a3f0",
   "metadata": {},
   "outputs": [],
   "source": [
    "data= pd.read_csv(file_path, header=0)\n",
    "data['STATE'] = data['STATE'].str.strip()\n",
    "# data.head(10)"
   ]
  },
  {
   "cell_type": "code",
   "execution_count": 33,
   "id": "aec2eed5",
   "metadata": {},
   "outputs": [
    {
     "data": {
      "text/plain": [
       "dtype('O')"
      ]
     },
     "execution_count": 33,
     "metadata": {},
     "output_type": "execute_result"
    }
   ],
   "source": [
    "# Add \"Regulation Indicator\"\n",
    "\n",
    "data2= pd.read_csv(file_path2, header=0)\n",
    "data2.drop(data.columns[0], axis=1, inplace=True)\n",
    "data['STATE'] = data2['STATE']\n",
    "data = pd.merge(data, data2, on=['STATE', 'Regulatory Type'], how='outer')\n",
    "# data.head(50)\n",
    "\n",
    "data2['STATE'].dtype"
   ]
  },
  {
   "cell_type": "code",
   "execution_count": 34,
   "id": "2be90999",
   "metadata": {},
   "outputs": [],
   "source": [
    "# Extract \"Regulatory Type\" and \"Regulatory Body\" into separate columns\n",
    "\n",
    "data.rename(columns={'Regulatory Type': 'Regulatory Type Full'}, inplace=True)\n",
    "\n",
    "pattern = r'^(.*?)(?:\\s*-\\s*(AG|Other))?(?:\\s+by\\s+(AG|Other))?$'\n",
    "\n",
    "matches = data['Regulatory Type Full'].str.extract(pattern, expand=False)\n",
    "data['Regulatory Type'] = matches[0]\n",
    "data['Regulatory Body'] = matches[1].combine_first(matches[2])\n",
    "\n",
    "\n",
    "data['Regulatory Body'].fillna('', inplace=True)\n"
   ]
  },
  {
   "cell_type": "code",
   "execution_count": 35,
   "id": "3f0792b5",
   "metadata": {},
   "outputs": [],
   "source": [
    "# Add three more empty columns\n",
    "\n",
    "data['Year legislation originally enacted'] = ''\n",
    "data['Year legislation changed'] = ''\n",
    "data['Type of Change'] = ''\n",
    "\n",
    "# data.head(50)"
   ]
  },
  {
   "cell_type": "code",
   "execution_count": 36,
   "id": "50eb6c22",
   "metadata": {},
   "outputs": [],
   "source": [
    "import re\n",
    "\n",
    "def extract_section_codes(notes):\n",
    "    if isinstance(notes, str):\n",
    "        # Step 1: Extract section codes following § and Section\n",
    "        pattern_step1 = r'(?:§{1,2}|Section|amd )\\s*([^\\s;,\\]]+)'\n",
    "        matches_step1 = re.findall(pattern_step1, notes)\n",
    "\n",
    "        if not matches_step1:\n",
    "            # Step 2: Extract section codes following ILCS, K.S.A., M.C.L., V.A.M.S, N.J.S.A., N.J.A., N.D.C.C., RCWA\n",
    "            pattern_step2 = r'(?:ILCS|K.S.A\\.|M.C.L\\.|V.A.M.S\\.|MCA|N.J.S.A\\.|N.J.A\\.|N.D.C.C\\.|NDCC|NDCC,|RCWA|LSA-R.S.|N.R.S\\.|W.S.A.|NRS|Ala\\. Code Sec\\.\\s)\\s*([^\\s;,\\]]+)'\n",
    "            matches_step2 = re.findall(pattern_step2, notes)\n",
    "            return [match.rstrip(';,]:.') for match in matches_step2] if matches_step2 else ['']\n",
    "        else:\n",
    "            return [match.rstrip(';,]:.') for match in matches_step1]\n",
    "    else:\n",
    "        return ['']\n",
    "\n",
    "# , |    \n"
   ]
  },
  {
   "cell_type": "code",
   "execution_count": 37,
   "id": "6345743c",
   "metadata": {},
   "outputs": [],
   "source": [
    "data['Section Code'] = data['Notes'].apply(lambda x: extract_section_codes(str(x)))"
   ]
  },
  {
   "cell_type": "code",
   "execution_count": 38,
   "id": "3504d8c6",
   "metadata": {},
   "outputs": [],
   "source": [
    "pd.set_option('display.max_colwidth', None)\n",
    "# data[['Notes', 'Section Code']].head(60)"
   ]
  },
  {
   "cell_type": "code",
   "execution_count": 39,
   "id": "690a191f",
   "metadata": {},
   "outputs": [],
   "source": [
    "#Final\n",
    "\n",
    "data = data.explode('Section Code')\n",
    "\n",
    "data['Section Code'] = data['Section Code'].str.strip()\n",
    "\n",
    "data = data.reset_index(drop=True)\n",
    "\n",
    "# pd.set_option('display.max_colwidth', None)\n",
    "# data[['Notes','Section Code']].head(50)"
   ]
  },
  {
   "cell_type": "code",
   "execution_count": 40,
   "id": "f5f82241",
   "metadata": {},
   "outputs": [],
   "source": [
    "data['STATE'] = data['STATE'].str.strip()\n",
    "data = data[~data['Section Code'].str.isalpha()]\n",
    "# data.head()\n",
    "# data.columns"
   ]
  },
  {
   "cell_type": "code",
   "execution_count": 41,
   "id": "489cd1ee",
   "metadata": {},
   "outputs": [
    {
     "data": {
      "text/html": [
       "<div>\n",
       "<style scoped>\n",
       "    .dataframe tbody tr th:only-of-type {\n",
       "        vertical-align: middle;\n",
       "    }\n",
       "\n",
       "    .dataframe tbody tr th {\n",
       "        vertical-align: top;\n",
       "    }\n",
       "\n",
       "    .dataframe thead th {\n",
       "        text-align: right;\n",
       "    }\n",
       "</style>\n",
       "<table border=\"1\" class=\"dataframe\">\n",
       "  <thead>\n",
       "    <tr style=\"text-align: right;\">\n",
       "      <th></th>\n",
       "      <th>Unnamed: 0</th>\n",
       "      <th>STATE</th>\n",
       "      <th>Regulatory Type</th>\n",
       "      <th>Regulatory Type Full</th>\n",
       "      <th>Regulatory Body</th>\n",
       "      <th>Regulation Indicator</th>\n",
       "      <th>Notes</th>\n",
       "      <th>Year legislation originally enacted</th>\n",
       "      <th>Year legislation changed</th>\n",
       "      <th>Type of Change</th>\n",
       "      <th>Section Code</th>\n",
       "    </tr>\n",
       "  </thead>\n",
       "  <tbody>\n",
       "    <tr>\n",
       "      <th>0</th>\n",
       "      <td>0</td>\n",
       "      <td>Alabama</td>\n",
       "      <td>STATE</td>\n",
       "      <td>STATE</td>\n",
       "      <td></td>\n",
       "      <td>Alabama</td>\n",
       "      <td>Alabama</td>\n",
       "      <td></td>\n",
       "      <td></td>\n",
       "      <td></td>\n",
       "      <td></td>\n",
       "    </tr>\n",
       "    <tr>\n",
       "      <th>1</th>\n",
       "      <td>1</td>\n",
       "      <td>Alabama</td>\n",
       "      <td>Bifurcated</td>\n",
       "      <td>Bifurcated</td>\n",
       "      <td></td>\n",
       "      <td>No</td>\n",
       "      <td>No Alabama Code § 13A-9-70 et seq.</td>\n",
       "      <td></td>\n",
       "      <td></td>\n",
       "      <td></td>\n",
       "      <td>13A-9-70</td>\n",
       "    </tr>\n",
       "    <tr>\n",
       "      <th>2</th>\n",
       "      <td>2</td>\n",
       "      <td>Alabama</td>\n",
       "      <td>Registration Office</td>\n",
       "      <td>Registration Office</td>\n",
       "      <td></td>\n",
       "      <td>NaN</td>\n",
       "      <td>Office of the Alabama Attorney General (Consumer Protection Division) http://www.ago.state.al.us/Page-Consumer-Protection-Consumer-Charities</td>\n",
       "      <td></td>\n",
       "      <td></td>\n",
       "      <td></td>\n",
       "      <td></td>\n",
       "    </tr>\n",
       "    <tr>\n",
       "      <th>3</th>\n",
       "      <td>3</td>\n",
       "      <td>Alabama</td>\n",
       "      <td>Sale of Assets</td>\n",
       "      <td>Sale of Assets - AG</td>\n",
       "      <td>AG</td>\n",
       "      <td>No</td>\n",
       "      <td>No</td>\n",
       "      <td></td>\n",
       "      <td></td>\n",
       "      <td></td>\n",
       "      <td></td>\n",
       "    </tr>\n",
       "    <tr>\n",
       "      <th>4</th>\n",
       "      <td>4</td>\n",
       "      <td>Alabama</td>\n",
       "      <td>Sale of Assets</td>\n",
       "      <td>Sale of Assets - Other</td>\n",
       "      <td>Other</td>\n",
       "      <td>No</td>\n",
       "      <td>No</td>\n",
       "      <td></td>\n",
       "      <td></td>\n",
       "      <td></td>\n",
       "      <td></td>\n",
       "    </tr>\n",
       "  </tbody>\n",
       "</table>\n",
       "</div>"
      ],
      "text/plain": [
       "   Unnamed: 0    STATE      Regulatory Type    Regulatory Type Full  \\\n",
       "0           0  Alabama                STATE                   STATE   \n",
       "1           1  Alabama           Bifurcated              Bifurcated   \n",
       "2           2  Alabama  Registration Office     Registration Office   \n",
       "3           3  Alabama       Sale of Assets     Sale of Assets - AG   \n",
       "4           4  Alabama       Sale of Assets  Sale of Assets - Other   \n",
       "\n",
       "  Regulatory Body Regulation Indicator  \\\n",
       "0                             Alabama    \n",
       "1                                   No   \n",
       "2                                  NaN   \n",
       "3              AG                   No   \n",
       "4           Other                   No   \n",
       "\n",
       "                                                                                                                                          Notes  \\\n",
       "0                                                                                                                                      Alabama    \n",
       "1                                                                                                            No Alabama Code § 13A-9-70 et seq.   \n",
       "2  Office of the Alabama Attorney General (Consumer Protection Division) http://www.ago.state.al.us/Page-Consumer-Protection-Consumer-Charities   \n",
       "3                                                                                                                                            No   \n",
       "4                                                                                                                                            No   \n",
       "\n",
       "  Year legislation originally enacted Year legislation changed Type of Change  \\\n",
       "0                                                                               \n",
       "1                                                                               \n",
       "2                                                                               \n",
       "3                                                                               \n",
       "4                                                                               \n",
       "\n",
       "  Section Code  \n",
       "0               \n",
       "1     13A-9-70  \n",
       "2               \n",
       "3               \n",
       "4               "
      ]
     },
     "execution_count": 41,
     "metadata": {},
     "output_type": "execute_result"
    }
   ],
   "source": [
    "desired_order = ['Unnamed: 0', 'STATE', 'Regulatory Type','Regulatory Type Full', 'Regulatory Body','Regulation Indicator','Notes',  \n",
    "       'Year legislation originally enacted', 'Year legislation changed',\n",
    "       'Type of Change', 'Section Code']\n",
    "data = data[desired_order]\n",
    "data.head()"
   ]
  },
  {
   "cell_type": "code",
   "execution_count": 42,
   "id": "e32991b8",
   "metadata": {},
   "outputs": [],
   "source": [
    "data.to_excel(f'{output_path}/Section_codes_current.xlsx')"
   ]
  },
  {
   "cell_type": "code",
   "execution_count": 43,
   "id": "b6463088",
   "metadata": {},
   "outputs": [],
   "source": [
    "# Create \"Regulation Indicator\"\n",
    "\n",
    "#  data['Regulation Indicator'] = ''\n",
    "\n",
    "# def determine_regulation_indicator(note):\n",
    "#     if pd.isna(note):\n",
    "#         return 'No'\n",
    "#     if isinstance(note, str):\n",
    "#         note = note.lower()\n",
    "#         if re.search(r'\"[^\"]*\"', note):\n",
    "#             return 'Yes'\n",
    "#         if re.search(r'no,?[^\"]*', note, re.IGNORECASE):\n",
    "#             return 'No'\n",
    "#         if note == 'yes':\n",
    "#             return 'Yes'\n",
    "#         elif note == 'no':\n",
    "#             return 'No'\n",
    "#     return 'Yes'\n",
    "\n",
    "# data['Regulation Indicator'] = data['Notes'].apply(determine_regulation_indicator)\n",
    "\n"
   ]
  },
  {
   "cell_type": "code",
   "execution_count": 44,
   "id": "a6a480c2",
   "metadata": {},
   "outputs": [],
   "source": [
    "# import re\n",
    "\n",
    "# def extract_section_codes(notes):\n",
    "#     if isinstance(notes, str):\n",
    "#         pattern = r'(?:§{1,2}|RCWA|Section|ILCS|K.S.A.|M.C.L.|V.A.M.S|N.J.S.A.|N.J.A..|N.D.C.C.|)\\s*([^\\s]+)'\n",
    "#         matches = re.findall(pattern, notes)\n",
    "#         return matches if matches else ['']\n",
    "#     else:\n",
    "#         return ['']"
   ]
  },
  {
   "cell_type": "code",
   "execution_count": 45,
   "id": "1f47f33c",
   "metadata": {},
   "outputs": [],
   "source": [
    "# import re\n",
    "\n",
    "# def extract_section_codes(notes):\n",
    "#     if isinstance(notes, str):\n",
    "#         # Step 1\n",
    "#         pattern_step1 = r'(?:§{1,2}|Section)\\s*([^\\s]+)'\n",
    "#         matches_step1 = re.findall(pattern_step1, notes)\n",
    "\n",
    "#         # Step 2\n",
    "#         if not matches_step1:\n",
    "            \n",
    "#             pattern_step2 = r'(?:ILCS|K.S.A\\.|M.C.L\\.|V.A.M.S|N.J.S.A\\.|N.J.A\\.|N.D.C.C\\.|RCWA|N.R.S\\.|NRS)\\s*([^\\s]+)'\n",
    "#             matches_step2 = re.findall(pattern_step2, notes)\n",
    "#             return matches_step2 if matches_step2 else ['']\n",
    "#         else:\n",
    "#             return matches_step1\n",
    "#     else:\n",
    "#         return ['']"
   ]
  }
 ],
 "metadata": {
  "kernelspec": {
   "display_name": "Python 3",
   "language": "python",
   "name": "python3"
  },
  "language_info": {
   "codemirror_mode": {
    "name": "ipython",
    "version": 3
   },
   "file_extension": ".py",
   "mimetype": "text/x-python",
   "name": "python",
   "nbconvert_exporter": "python",
   "pygments_lexer": "ipython3",
   "version": "3.6.13"
  }
 },
 "nbformat": 4,
 "nbformat_minor": 5
}
