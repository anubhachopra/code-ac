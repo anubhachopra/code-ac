{
 "cells": [
  {
   "cell_type": "code",
   "execution_count": 2,
   "id": "ebef52ee",
   "metadata": {
    "execution": {
     "iopub.execute_input": "2023-12-11T14:36:39.034477Z",
     "iopub.status.busy": "2023-12-11T14:36:39.032907Z",
     "iopub.status.idle": "2023-12-11T14:36:41.741864Z",
     "shell.execute_reply": "2023-12-11T14:36:41.743074Z"
    },
    "papermill": {
     "duration": 2.733228,
     "end_time": "2023-12-11T14:36:41.744206",
     "exception": false,
     "start_time": "2023-12-11T14:36:39.010978",
     "status": "completed"
    },
    "tags": []
   },
   "outputs": [],
   "source": [
    "import pandas as pd\n",
    "\n",
    "import warnings\n",
    "\n",
    "# Suppress all warnings\n",
    "warnings.filterwarnings(\"ignore\")\n",
    "\n",
    "directory = ''\n",
    "\n",
    "# Load your Excel file using openpyxl\n",
    "df1 = pd.read_excel(f'{directory}/Output/Formating Urban/Section_codes_current.xlsx', header=0, engine='openpyxl')\n",
    "\n",
    "# Loading legal data\n",
    "df2 = pd.read_csv(f'{directory}/Data/master_table1.csv')\n",
    "\n",
    "\n",
    "\n",
    "# Creating subset of data (enter lowercase)\n",
    "desired_state1 = \"Oklahoma\"\n",
    "desired_state2 = \"oklahoma\"\n",
    "subset_df1 = df1[df1['STATE'] == desired_state1]\n",
    "subset_df2 = df2[df2['State'] == desired_state2]\n",
    "\n",
    "# # Check for NA\n",
    "# if subset_df2['section'].isna().any():\n",
    "#     print(\"The 'section' column contains missing values.\")\n",
    "# else:\n",
    "#     print(\"The 'section' column does not contain missing values.\")\n",
    "\n",
    "# Clean section column\n",
    "subset_df2['section'] = subset_df2['section'].str.replace('section-', '', case=False)\n",
    "# subset_df2['section'] = subset_df2['section'].str.replace('-', '.')  # Replace first hyphen with colon\n",
    "subset_df2['section'] = subset_df2['section'].str.upper()\n",
    "subset_df1['Section Code Duplicate'] = subset_df1['Section Code'].copy()\n",
    "subset_df1['Section Code Duplicate'] = subset_df1['Section Code Duplicate'].str.replace('.', '-')\n",
    "subset_df1['Section Code Duplicate'] = subset_df1['Section Code Duplicate'].str.upper()\n",
    "subset_df1['Section Code Duplicate'] = '18-' + subset_df1['Section Code Duplicate'].astype(str)\n",
    "\n",
    "# subset_df2['section'] = subset_df2['section'].apply(lambda x: x[:x.rfind('-')] + '.' + x[x.rfind('-')+1:])\n",
    "\n",
    "# subset_df2.head(5)\n",
    "\n",
    "# Merge the subsetted dataframes on 'Section Code' and 'Section'\n",
    "merged_df = pd.merge(subset_df1, subset_df2[['State','section', 'text']], left_on='Section Code Duplicate', right_on='section', how='left')\n",
    "\n",
    "merged_df.drop(columns=['Section Code Duplicate'], inplace=True)\n",
    "\n",
    "# merged_df.head()\n",
    "\n",
    "# Save the merged data to an Excel file\n",
    "merged_df.to_excel(f'{directory}/Output/Matching Urban to Drexel/Section_codes_merged_{desired_state2}.xlsx', index=False)\n"
   ]
  },
  {
   "cell_type": "code",
   "execution_count": 2,
   "id": "35df2a06",
   "metadata": {
    "execution": {
     "iopub.execute_input": "2023-12-11T14:36:41.801582Z",
     "iopub.status.busy": "2023-12-11T14:36:41.799996Z",
     "iopub.status.idle": "2023-12-11T14:36:41.805392Z",
     "shell.execute_reply": "2023-12-11T14:36:41.806145Z"
    },
    "papermill": {
     "duration": 0.049669,
     "end_time": "2023-12-11T14:36:41.806437",
     "exception": false,
     "start_time": "2023-12-11T14:36:41.756768",
     "status": "completed"
    },
    "tags": []
   },
   "outputs": [
    {
     "data": {
      "text/plain": [
       "10443    18-1140-2\n",
       "10444    18-1140-3\n",
       "10445      18-1141\n",
       "10446      18-1142\n",
       "10447    18-1142-1\n",
       "           ...    \n",
       "10538      18-2056\n",
       "10539      18-2057\n",
       "10540      18-2058\n",
       "10541      18-2059\n",
       "10542      18-2060\n",
       "Name: section, Length: 100, dtype: object"
      ]
     },
     "execution_count": 2,
     "metadata": {},
     "output_type": "execute_result"
    }
   ],
   "source": [
    "subset_df2['section'].tail(100)"
   ]
  },
  {
   "cell_type": "code",
   "execution_count": 3,
   "id": "231d5a90",
   "metadata": {
    "execution": {
     "iopub.execute_input": "2023-12-11T14:36:41.832050Z",
     "iopub.status.busy": "2023-12-11T14:36:41.830801Z",
     "iopub.status.idle": "2023-12-11T14:36:41.835949Z",
     "shell.execute_reply": "2023-12-11T14:36:41.836714Z"
    },
    "papermill": {
     "duration": 0.021981,
     "end_time": "2023-12-11T14:36:41.837036",
     "exception": false,
     "start_time": "2023-12-11T14:36:41.815055",
     "status": "completed"
    },
    "tags": []
   },
   "outputs": [
    {
     "data": {
      "text/plain": [
       "1844         18-nan\n",
       "1845       18-552-1\n",
       "1846       18-552-6\n",
       "1847         18-nan\n",
       "1848         18-nan\n",
       "1849         18-nan\n",
       "1850         18-nan\n",
       "1851        18-1085\n",
       "1852         18-nan\n",
       "1853        18-1077\n",
       "1854         18-nan\n",
       "1855        18-1097\n",
       "1856        18-1104\n",
       "1857        18-1105\n",
       "1858         18-nan\n",
       "1859         18-nan\n",
       "1860         18-nan\n",
       "1861         18-nan\n",
       "1862         18-nan\n",
       "1863         18-nan\n",
       "1864         18-nan\n",
       "1865         18-nan\n",
       "1866      18-552-1A\n",
       "1867    18-552-4(1)\n",
       "1868       18-552-3\n",
       "1869    18-552-4(2)\n",
       "1870         18-nan\n",
       "1871         18-nan\n",
       "1872         18-nan\n",
       "1873         18-nan\n",
       "1874         18-nan\n",
       "1875         18-nan\n",
       "1876         18-nan\n",
       "1877         18-nan\n",
       "1878       18-552-3\n",
       "1879    18-552-4(3)\n",
       "1880         18-nan\n",
       "1881    18-552-4(3)\n",
       "1882    18-552-4(4)\n",
       "1883        18-1104\n",
       "1884         18-nan\n",
       "1885       18-552-7\n",
       "1886         18-552\n",
       "1887       18-552-2\n",
       "1888         18-nan\n",
       "1889         18-nan\n",
       "1890       18-552-9\n",
       "1891       18-552-8\n",
       "1892         18-nan\n",
       "1893         18-nan\n",
       "Name: Section Code Duplicate, dtype: object"
      ]
     },
     "execution_count": 3,
     "metadata": {},
     "output_type": "execute_result"
    }
   ],
   "source": [
    "subset_df1['Section Code Duplicate'].head(50)"
   ]
  },
  {
   "cell_type": "code",
   "execution_count": null,
   "id": "392f1712",
   "metadata": {
    "papermill": {
     "duration": 0.01014,
     "end_time": "2023-12-11T14:36:41.860653",
     "exception": false,
     "start_time": "2023-12-11T14:36:41.850513",
     "status": "completed"
    },
    "tags": []
   },
   "outputs": [],
   "source": []
  }
 ],
 "metadata": {
  "kernelspec": {
   "display_name": "Python 3",
   "language": "python",
   "name": "python3"
  },
  "language_info": {
   "codemirror_mode": {
    "name": "ipython",
    "version": 3
   },
   "file_extension": ".py",
   "mimetype": "text/x-python",
   "name": "python",
   "nbconvert_exporter": "python",
   "pygments_lexer": "ipython3",
   "version": "3.6.13"
  },
  "papermill": {
   "default_parameters": {},
   "duration": 4.473453,
   "end_time": "2023-12-11T14:36:42.302759",
   "environment_variables": {},
   "exception": null,
   "input_path": "/Users/Anubha/Downloads/Regulatory Project/Merging-OKLAHOMA.ipynb",
   "output_path": "/Users/Anubha/Downloads/Regulatory Project/Merging-OKLAHOMA.ipynb",
   "parameters": {},
   "start_time": "2023-12-11T14:36:37.829306",
   "version": "2.3.4"
  }
 },
 "nbformat": 4,
 "nbformat_minor": 5
}
