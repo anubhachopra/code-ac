{
 "cells": [
  {
   "cell_type": "code",
   "execution_count": 1,
   "id": "ebef52ee",
   "metadata": {
    "execution": {
     "iopub.execute_input": "2023-12-11T14:36:29.717128Z",
     "iopub.status.busy": "2023-12-11T14:36:29.716038Z",
     "iopub.status.idle": "2023-12-11T14:36:32.584023Z",
     "shell.execute_reply": "2023-12-11T14:36:32.586159Z"
    },
    "papermill": {
     "duration": 2.888264,
     "end_time": "2023-12-11T14:36:32.587113",
     "exception": false,
     "start_time": "2023-12-11T14:36:29.698849",
     "status": "completed"
    },
    "tags": []
   },
   "outputs": [],
   "source": [
    "import pandas as pd\n",
    "\n",
    "import warnings\n",
    "\n",
    "# Suppress all warnings\n",
    "warnings.filterwarnings(\"ignore\")\n",
    "\n",
    "directory = ''\n",
    "\n",
    "# Load your Excel file using openpyxl\n",
    "df1 = pd.read_excel(f'{directory}/Output/Formating Urban/Section_codes_current.xlsx', header=0, engine='openpyxl')\n",
    "\n",
    "# Loading legal data\n",
    "df2 = pd.read_csv(f'{directory}/Data/master_table1.csv')\n",
    "\n",
    "# Creating subset of data (enter lowercase)\n",
    "desired_state1 = \"Arizona\"\n",
    "desired_state2 = \"arizona\"\n",
    "subset_df1 = df1[df1['STATE'] == desired_state1]\n",
    "subset_df2 = df2[df2['State'] == desired_state2]\n",
    "\n",
    "# Clean section column\n",
    "subset_df2['section'] = subset_df2['section'].str.replace('section-', '', case=False)\n",
    "\n",
    "subset_df2.head(5)\n",
    "\n",
    "# Merge the subsetted dataframes on 'Section Code' and 'Section'\n",
    "merged_df = pd.merge(subset_df1, subset_df2[['State','section', 'text']], left_on='Section Code', right_on='section', how='left')\n",
    "\n",
    "# Save the merged data to an Excel file\n",
    "merged_df.to_excel(f'{directory}/Output/Matching Urban to Drexel/Section_codes_merged_{desired_state2}.xlsx', index=False)"
   ]
  },
  {
   "cell_type": "code",
   "execution_count": 2,
   "id": "a1a41dfe",
   "metadata": {
    "execution": {
     "iopub.execute_input": "2023-12-11T14:36:32.622620Z",
     "iopub.status.busy": "2023-12-11T14:36:32.616572Z",
     "iopub.status.idle": "2023-12-11T14:36:32.631199Z",
     "shell.execute_reply": "2023-12-11T14:36:32.630359Z"
    },
    "papermill": {
     "duration": 0.035593,
     "end_time": "2023-12-11T14:36:32.631619",
     "exception": false,
     "start_time": "2023-12-11T14:36:32.596026",
     "status": "completed"
    },
    "tags": []
   },
   "outputs": [
    {
     "name": "stdout",
     "output_type": "stream",
     "text": [
      "File exists.\n"
     ]
    }
   ],
   "source": [
    "# import os\n",
    "\n",
    "# file_path = \"/Users/Anubha/Downloads/Daniel's work/master_table.csv\"\n",
    "\n",
    "# if os.path.exists(file_path):\n",
    "#     print(\"File exists.\")\n",
    "# else:\n",
    "#     print(\"File does not exist.\")\n"
   ]
  }
 ],
 "metadata": {
  "kernelspec": {
   "display_name": "Python 3",
   "language": "python",
   "name": "python3"
  },
  "language_info": {
   "codemirror_mode": {
    "name": "ipython",
    "version": 3
   },
   "file_extension": ".py",
   "mimetype": "text/x-python",
   "name": "python",
   "nbconvert_exporter": "python",
   "pygments_lexer": "ipython3",
   "version": "3.6.13"
  },
  "papermill": {
   "default_parameters": {},
   "duration": 4.442115,
   "end_time": "2023-12-11T14:36:33.067060",
   "environment_variables": {},
   "exception": null,
   "input_path": "/Users/Anubha/Downloads/Regulatory Project/Merging-ARIZONA.ipynb",
   "output_path": "/Users/Anubha/Downloads/Regulatory Project/Merging-ARIZONA.ipynb",
   "parameters": {},
   "start_time": "2023-12-11T14:36:28.624945",
   "version": "2.3.4"
  }
 },
 "nbformat": 4,
 "nbformat_minor": 5
}
