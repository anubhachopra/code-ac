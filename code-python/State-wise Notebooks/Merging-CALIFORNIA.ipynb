{
 "cells": [
  {
   "cell_type": "code",
   "execution_count": 1,
   "id": "ebef52ee",
   "metadata": {
    "execution": {
     "iopub.execute_input": "2023-12-11T14:37:02.006405Z",
     "iopub.status.busy": "2023-12-11T14:37:02.004412Z",
     "iopub.status.idle": "2023-12-11T14:37:04.726420Z",
     "shell.execute_reply": "2023-12-11T14:37:04.727657Z"
    },
    "papermill": {
     "duration": 2.743107,
     "end_time": "2023-12-11T14:37:04.728562",
     "exception": false,
     "start_time": "2023-12-11T14:37:01.985455",
     "status": "completed"
    },
    "tags": []
   },
   "outputs": [],
   "source": [
    "import pandas as pd\n",
    "\n",
    "import warnings\n",
    "\n",
    "# Suppress all warnings\n",
    "warnings.filterwarnings(\"ignore\")\n",
    "\n",
    "directory = ''\n",
    "\n",
    "# Load your Excel file using openpyxl\n",
    "df1 = pd.read_excel(f'{directory}/Regulatory Project Step1/Output/Section_codes_current.xlsx', header=0, engine='openpyxl')\n",
    "\n",
    "# Loading legal data\n",
    "df2 = pd.read_csv(f'{directory}/Regulatory Project/Drexel data/master_table1.csv')\n",
    "\n",
    "# Creating subset of data (enter lowercase)\n",
    "desired_state1 = \"California\"\n",
    "desired_state2 = \"california\"\n",
    "subset_df1 = df1[df1['STATE'] == desired_state1]\n",
    "subset_df2 = df2[df2['State'] == desired_state2]\n",
    "\n",
    "# # Check for NA\n",
    "# if subset_df2['section'].isna().any():\n",
    "#     print(\"The 'section' column contains missing values.\")\n",
    "# else:\n",
    "#     print(\"The 'section' column does not contain missing values.\")\n",
    "\n",
    "# Clean section column\n",
    "# subset_df2['division'] = subset_df2['division'].str.replace('section-', '', case=False)\n",
    "# subset_df2['division'] = subset_df2['division'].str.upper()\n",
    "# subset_df2['section'] = subset_df2['section'].str.replace('section-', '', case=False)\n",
    "# subset_df2['section'] = subset_df2['section'].str.upper()\n",
    "\n",
    "# Merge\n",
    "merged_df = pd.merge(subset_df1, subset_df2[['State', 'division', 'section', 'text', '2']],\n",
    "                         left_on='Section Code', right_on='2', how='left')\n",
    "\n",
    "merged_df.rename(columns={'section': 'section original'}, inplace=True)\n",
    "merged_df.rename(columns={'2': 'section'}, inplace=True)\n",
    "\n",
    "# Save the merged data to an Excel file\n",
    "merged_df.to_excel(f'{directory}/Regulatory Project/Output/Section_codes_merged_{desired_state2}.xlsx', index=False)"
   ]
  },
  {
   "cell_type": "code",
   "execution_count": null,
   "id": "9f6fa233",
   "metadata": {
    "papermill": {
     "duration": 0.011801,
     "end_time": "2023-12-11T14:37:04.751129",
     "exception": false,
     "start_time": "2023-12-11T14:37:04.739328",
     "status": "completed"
    },
    "tags": []
   },
   "outputs": [],
   "source": []
  }
 ],
 "metadata": {
  "kernelspec": {
   "display_name": "Python 3",
   "language": "python",
   "name": "python3"
  },
  "language_info": {
   "codemirror_mode": {
    "name": "ipython",
    "version": 3
   },
   "file_extension": ".py",
   "mimetype": "text/x-python",
   "name": "python",
   "nbconvert_exporter": "python",
   "pygments_lexer": "ipython3",
   "version": "3.6.13"
  },
  "papermill": {
   "default_parameters": {},
   "duration": 4.710187,
   "end_time": "2023-12-11T14:37:05.193955",
   "environment_variables": {},
   "exception": null,
   "input_path": "/Users/Anubha/Downloads/Regulatory Project/Merging-CALIFORNIA.ipynb",
   "output_path": "/Users/Anubha/Downloads/Regulatory Project/Merging-CALIFORNIA.ipynb",
   "parameters": {},
   "start_time": "2023-12-11T14:37:00.483768",
   "version": "2.3.4"
  }
 },
 "nbformat": 4,
 "nbformat_minor": 5
}
