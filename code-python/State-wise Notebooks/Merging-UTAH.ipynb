{
 "cells": [
  {
   "cell_type": "code",
   "execution_count": 1,
   "id": "ebef52ee",
   "metadata": {
    "execution": {
     "iopub.execute_input": "2023-12-11T14:34:42.393799Z",
     "iopub.status.busy": "2023-12-11T14:34:42.392302Z",
     "iopub.status.idle": "2023-12-11T14:34:45.093029Z",
     "shell.execute_reply": "2023-12-11T14:34:45.095726Z"
    },
    "papermill": {
     "duration": 2.723365,
     "end_time": "2023-12-11T14:34:45.096580",
     "exception": false,
     "start_time": "2023-12-11T14:34:42.373215",
     "status": "completed"
    },
    "tags": []
   },
   "outputs": [],
   "source": [
    "import pandas as pd\n",
    "\n",
    "import warnings\n",
    "\n",
    "# Suppress all warnings\n",
    "warnings.filterwarnings(\"ignore\")\n",
    "\n",
    "directory = ''\n",
    "\n",
    "# Load your Excel file using openpyxl\n",
    "df1 = pd.read_excel(f'{directory}/Output/Formating Urban/Section_codes_current.xlsx', header=0, engine='openpyxl')\n",
    "\n",
    "# Loading legal data\n",
    "df2 = pd.read_csv(f'{directory}/Data/master_table1.csv')\n",
    "\n",
    "\n",
    "# Creating subset of data (enter lowercase)\n",
    "desired_state1 = \"Utah\"\n",
    "desired_state2 = \"utah\"\n",
    "subset_df1 = df1[df1['STATE'] == desired_state1]\n",
    "subset_df2 = df2[df2['State'] == desired_state2]\n",
    "\n",
    "# Special state\n",
    "subset_df2['first_element'] = subset_df2['text'].str.upper().str.split(' ').str[0]\n",
    "\n",
    "# # Check for NA\n",
    "# if subset_df2['section'].isna().any():\n",
    "#     print(\"The 'section' column contains missing values.\")\n",
    "# else:\n",
    "#     print(\"The 'section' column does not contain missing values.\")\n",
    "\n",
    "# Clean section column\n",
    "subset_df2['first_element'] = subset_df2['first_element'].str.rstrip('.')\n",
    "# subset_df2['section'] = subset_df2['section'].str.replace('section-', '', case=False)\n",
    "# subset_df2['section'] = subset_df2['section'].str.replace('-', '.')  # Replace first hyphen with colon\n",
    "subset_df2['first_element'] = subset_df2['first_element'].str.lower()\n",
    "# subset_df2['section'] = subset_df2['section'].apply(lambda x: x[:x.rfind('-')] + '.' + x[x.rfind('-')+1:])\n",
    "\n",
    "# subset_df2.head(5)\n",
    "\n",
    "# Merge the subsetted dataframes on 'Section Code' and 'Section'\n",
    "merged_df = pd.merge(subset_df1, subset_df2[['State','section', 'text', 'first_element']], left_on='Section Code', right_on='first_element', how='left')\n",
    "\n",
    "# merged_df.head()\n",
    "\n",
    "# Save the merged data to an Excel file\n",
    "merged_df.to_excel(f'{directory}/Output/Matching Urban to Drexel/Section_codes_merged_{desired_state2}.xlsx', index=False)\n"
   ]
  },
  {
   "cell_type": "code",
   "execution_count": 2,
   "id": "35df2a06",
   "metadata": {
    "execution": {
     "iopub.execute_input": "2023-12-11T14:34:45.150276Z",
     "iopub.status.busy": "2023-12-11T14:34:45.148409Z",
     "iopub.status.idle": "2023-12-11T14:34:45.154312Z",
     "shell.execute_reply": "2023-12-11T14:34:45.155326Z"
    },
    "papermill": {
     "duration": 0.047673,
     "end_time": "2023-12-11T14:34:45.155675",
     "exception": false,
     "start_time": "2023-12-11T14:34:45.108002",
     "status": "completed"
    },
    "tags": []
   },
   "outputs": [
    {
     "data": {
      "text/plain": [
       "11901     16-6a-101\n",
       "11902     effective\n",
       "11903     effective\n",
       "11904     16-6a-104\n",
       "11905     16-6a-105\n",
       "            ...    \n",
       "12070     effective\n",
       "12071     effective\n",
       "12072    16-6a-1703\n",
       "12073    16-6a-1704\n",
       "12074    16-6a-1705\n",
       "Name: first_element, Length: 174, dtype: object"
      ]
     },
     "execution_count": 2,
     "metadata": {},
     "output_type": "execute_result"
    }
   ],
   "source": [
    "# subset_df2['first_element']"
   ]
  },
  {
   "cell_type": "code",
   "execution_count": null,
   "id": "38f17731",
   "metadata": {
    "papermill": {
     "duration": 0.006705,
     "end_time": "2023-12-11T14:34:45.171464",
     "exception": false,
     "start_time": "2023-12-11T14:34:45.164759",
     "status": "completed"
    },
    "tags": []
   },
   "outputs": [],
   "source": []
  }
 ],
 "metadata": {
  "kernelspec": {
   "display_name": "Python 3",
   "language": "python",
   "name": "python3"
  },
  "language_info": {
   "codemirror_mode": {
    "name": "ipython",
    "version": 3
   },
   "file_extension": ".py",
   "mimetype": "text/x-python",
   "name": "python",
   "nbconvert_exporter": "python",
   "pygments_lexer": "ipython3",
   "version": "3.6.13"
  },
  "papermill": {
   "default_parameters": {},
   "duration": 4.42961,
   "end_time": "2023-12-11T14:34:45.603212",
   "environment_variables": {},
   "exception": null,
   "input_path": "/Users/Anubha/Downloads/Regulatory Project/Merging-UTAH.ipynb",
   "output_path": "/Users/Anubha/Downloads/Regulatory Project/Merging-UTAH.ipynb",
   "parameters": {},
   "start_time": "2023-12-11T14:34:41.173602",
   "version": "2.3.4"
  }
 },
 "nbformat": 4,
 "nbformat_minor": 5
}
