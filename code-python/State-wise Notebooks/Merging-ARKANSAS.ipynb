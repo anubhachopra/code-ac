{
 "cells": [
  {
   "cell_type": "code",
   "execution_count": 1,
   "id": "ebef52ee",
   "metadata": {
    "execution": {
     "iopub.execute_input": "2023-12-11T14:37:43.910715Z",
     "iopub.status.busy": "2023-12-11T14:37:43.909282Z",
     "iopub.status.idle": "2023-12-11T14:37:46.701631Z",
     "shell.execute_reply": "2023-12-11T14:37:46.702873Z"
    },
    "papermill": {
     "duration": 2.812073,
     "end_time": "2023-12-11T14:37:46.703603",
     "exception": false,
     "start_time": "2023-12-11T14:37:43.891530",
     "status": "completed"
    },
    "tags": []
   },
   "outputs": [],
   "source": [
    "import pandas as pd\n",
    "import warnings\n",
    "\n",
    "# Suppress all warnings\n",
    "warnings.filterwarnings(\"ignore\")\n",
    "\n",
    "directory = ''\n",
    "\n",
    "# Load your Excel file using openpyxl\n",
    "df1 = pd.read_excel(f'{directory}/Output/Formating Urban/Section_codes_current.xlsx', header=0, engine='openpyxl')\n",
    "\n",
    "# Loading legal data\n",
    "df2 = pd.read_csv(f'{directory}/Data/master_table1.csv')\n",
    "\n",
    "# Creating subset of data (enter lowercase)\n",
    "desired_state1 = \"Arkansas\"\n",
    "desired_state2 = \"arkansas\"\n",
    "subset_df1 = df1[df1['STATE'] == desired_state1]\n",
    "subset_df2 = df2[df2['State'] == desired_state2]\n",
    "\n",
    "# Clean section column\n",
    "subset_df2['section'] = subset_df2['section'].str.replace('section-', '', case=False)\n",
    "\n",
    "# subset_df2.head(5)\n",
    "\n",
    "# Merge the subsetted dataframes on 'Section Code' and 'Section'\n",
    "merged_df = pd.merge(subset_df1, subset_df2[['State','section', 'text']], left_on='Section Code', right_on='section', how='left')\n",
    "\n",
    "# Save the merged data to an Excel file\n",
    "merged_df.to_excel(f'{directory}/Output/Matching Urban to Drexel/Section_codes_merged_{desired_state2}.xlsx', index=False)"
   ]
  },
  {
   "cell_type": "code",
   "execution_count": null,
   "id": "5a1dbde8",
   "metadata": {
    "papermill": {
     "duration": 0.005627,
     "end_time": "2023-12-11T14:37:46.720364",
     "exception": false,
     "start_time": "2023-12-11T14:37:46.714737",
     "status": "completed"
    },
    "tags": []
   },
   "outputs": [],
   "source": []
  }
 ],
 "metadata": {
  "kernelspec": {
   "display_name": "Python 3",
   "language": "python",
   "name": "python3"
  },
  "language_info": {
   "codemirror_mode": {
    "name": "ipython",
    "version": 3
   },
   "file_extension": ".py",
   "mimetype": "text/x-python",
   "name": "python",
   "nbconvert_exporter": "python",
   "pygments_lexer": "ipython3",
   "version": "3.6.13"
  },
  "papermill": {
   "default_parameters": {},
   "duration": 4.50696,
   "end_time": "2023-12-11T14:37:47.189407",
   "environment_variables": {},
   "exception": null,
   "input_path": "/Users/Anubha/Downloads/Regulatory Project/Merging-ARKANSAS.ipynb",
   "output_path": "/Users/Anubha/Downloads/Regulatory Project/Merging-ARKANSAS.ipynb",
   "parameters": {},
   "start_time": "2023-12-11T14:37:42.682447",
   "version": "2.3.4"
  }
 },
 "nbformat": 4,
 "nbformat_minor": 5
}
