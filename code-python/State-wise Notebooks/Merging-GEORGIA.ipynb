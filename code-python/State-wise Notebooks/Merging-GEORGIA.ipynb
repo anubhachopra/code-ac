{
 "cells": [
  {
   "cell_type": "code",
   "execution_count": 2,
   "id": "ebef52ee",
   "metadata": {
    "execution": {
     "iopub.execute_input": "2023-12-11T14:35:00.621059Z",
     "iopub.status.busy": "2023-12-11T14:35:00.620044Z",
     "iopub.status.idle": "2023-12-11T14:35:03.379490Z",
     "shell.execute_reply": "2023-12-11T14:35:03.380484Z"
    },
    "papermill": {
     "duration": 2.775173,
     "end_time": "2023-12-11T14:35:03.381846",
     "exception": false,
     "start_time": "2023-12-11T14:35:00.606673",
     "status": "completed"
    },
    "tags": []
   },
   "outputs": [],
   "source": [
    "import pandas as pd\n",
    "\n",
    "import warnings\n",
    "\n",
    "# Suppress all warnings\n",
    "warnings.filterwarnings(\"ignore\")\n",
    "\n",
    "directory = ''\n",
    "\n",
    "# Load your Excel file using openpyxl\n",
    "df1 = pd.read_excel(f'{directory}/Output/Formating Urban/Section_codes_current.xlsx', header=0, engine='openpyxl')\n",
    "\n",
    "# Loading legal data\n",
    "df2 = pd.read_csv(f'{directory}/Data/master_table1.csv')\n",
    "\n",
    "# Creating subset of data (enter lowercase)\n",
    "desired_state1 = \"Georgia\"\n",
    "desired_state2 = \"georgia\"\n",
    "subset_df1 = df1[df1['STATE'] == desired_state1]\n",
    "subset_df2 = df2[df2['State'] == desired_state2]\n",
    "\n",
    "# Clean section column\n",
    "subset_df2['division'] = subset_df2['division'].str.replace('section-', '', case=False)\n",
    "subset_df2['section'] = subset_df2['section'].str.replace('section-', '', case=False)\n",
    "\n",
    "# Merge\n",
    "merged_df1 = pd.merge(subset_df1, subset_df2[['State', 'division', 'section', 'text']],\n",
    "                     left_on='Section Code', right_on='division', how='left')\n",
    "\n",
    "merged_df2 = pd.merge(subset_df1, subset_df2[['State', 'division', 'section', 'text']],\n",
    "                         left_on='Section Code', right_on='section', how='left')\n",
    "\n",
    "\n",
    "merged_df3 = merged_df1.combine_first(merged_df2)\n",
    "\n",
    "# Save the merged data to an Excel file\n",
    "merged_df3.to_excel(f'{directory}/Output/Matching Urban to Drexel/Section_codes_merged_{desired_state2}.xlsx', index=False)\n"
   ]
  },
  {
   "cell_type": "code",
   "execution_count": null,
   "id": "9f6fa233",
   "metadata": {
    "papermill": {
     "duration": 0.005597,
     "end_time": "2023-12-11T14:35:03.397592",
     "exception": false,
     "start_time": "2023-12-11T14:35:03.391995",
     "status": "completed"
    },
    "tags": []
   },
   "outputs": [],
   "source": []
  }
 ],
 "metadata": {
  "kernelspec": {
   "display_name": "Python 3",
   "language": "python",
   "name": "python3"
  },
  "language_info": {
   "codemirror_mode": {
    "name": "ipython",
    "version": 3
   },
   "file_extension": ".py",
   "mimetype": "text/x-python",
   "name": "python",
   "nbconvert_exporter": "python",
   "pygments_lexer": "ipython3",
   "version": "3.6.13"
  },
  "papermill": {
   "default_parameters": {},
   "duration": 4.376651,
   "end_time": "2023-12-11T14:35:03.847235",
   "environment_variables": {},
   "exception": null,
   "input_path": "/Users/Anubha/Downloads/Regulatory Project/Merging-GEORGIA.ipynb",
   "output_path": "/Users/Anubha/Downloads/Regulatory Project/Merging-GEORGIA.ipynb",
   "parameters": {},
   "start_time": "2023-12-11T14:34:59.470584",
   "version": "2.3.4"
  }
 },
 "nbformat": 4,
 "nbformat_minor": 5
}
