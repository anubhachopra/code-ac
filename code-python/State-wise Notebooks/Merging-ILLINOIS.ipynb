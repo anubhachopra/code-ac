{
 "cells": [
  {
   "cell_type": "code",
   "execution_count": 1,
   "id": "ebef52ee",
   "metadata": {
    "execution": {
     "iopub.execute_input": "2023-12-11T14:34:56.044213Z",
     "iopub.status.busy": "2023-12-11T14:34:56.041799Z",
     "iopub.status.idle": "2023-12-11T14:34:58.916543Z",
     "shell.execute_reply": "2023-12-11T14:34:58.919140Z"
    },
    "papermill": {
     "duration": 2.896615,
     "end_time": "2023-12-11T14:34:58.919726",
     "exception": false,
     "start_time": "2023-12-11T14:34:56.023111",
     "status": "completed"
    },
    "tags": []
   },
   "outputs": [],
   "source": [
    "# Illinois has not been matched successfully because of issues with the way \n",
    "# Illinois section codes have been extracted in the Drexel data. \n",
    "\n",
    "\n",
    "\n",
    "import pandas as pd\n",
    "\n",
    "import warnings\n",
    "\n",
    "# Suppress all warnings\n",
    "warnings.filterwarnings(\"ignore\")\n",
    "\n",
    "directory = '/Users/Anubha/Library/CloudStorage/OneDrive-DrexelUniversity/Anubha & Dr. T - Shared/Urban Regulatory projects/Urban Final'\n",
    "\n",
    "# Load your Excel file using openpyxl\n",
    "df1 = pd.read_excel(f'{directory}/Output/Formating Urban/Section_codes_current.xlsx', header=0, engine='openpyxl')\n",
    "\n",
    "# Loading legal data\n",
    "df2 = pd.read_csv(f'{directory}/Data/master_table1.csv')\n",
    "\n",
    "# Creating subset of data (enter lowercase)\n",
    "desired_state1 = \"Illinois\"\n",
    "desired_state2 = \"illinois\"\n",
    "subset_df1 = df1[df1['STATE'] == desired_state1]\n",
    "subset_df2 = df2[df2['State'] == desired_state2]\n",
    "\n",
    "# # Check for NA\n",
    "# if subset_df2['section'].isna().any():\n",
    "#     print(\"The 'section' column contains missing values.\")\n",
    "# else:\n",
    "#     print(\"The 'section' column does not contain missing values.\")\n",
    "\n",
    "# Clean section column\n",
    "subset_df2['section'] = subset_df2['section'].str.replace('section-', '', case=False)\n",
    "subset_df2['section'] = subset_df2['section'].str.replace('-', '.')  # Replace first hyphen with colon\n",
    "subset_df2['section'] = subset_df2['section'].str.upper()\n",
    "# subset_df2['section'] = subset_df2['section'].apply(lambda x: x[:x.rfind('-')] + ':' + x[x.rfind('-')+1:])\n",
    "\n",
    "# subset_df2.head(5)\n",
    "\n",
    "# Merge the subsetted dataframes on 'Section Code' and 'Section'\n",
    "merged_df = pd.merge(subset_df1, subset_df2[['State','section', 'text']], left_on='Section Code', right_on='section', how='left')\n",
    "\n",
    "# merged_df.head()\n",
    "\n",
    "# Save the merged data to an Excel file\n",
    "merged_df.to_excel(f'{directory}/Output/Matching Urban to Drexel/Section_codes_merged_{desired_state2}.xlsx', index=False)\n"
   ]
  },
  {
   "cell_type": "code",
   "execution_count": 7,
   "id": "35df2a06",
   "metadata": {
    "papermill": {
     "duration": 0.008201,
     "end_time": "2023-12-11T14:34:58.946990",
     "exception": false,
     "start_time": "2023-12-11T14:34:58.938789",
     "status": "completed"
    },
    "tags": []
   },
   "outputs": [
    {
     "data": {
      "text/plain": [
       "671             NaN\n",
       "672              55\n",
       "673             NaN\n",
       "674             NaN\n",
       "675             NaN\n",
       "676             NaN\n",
       "677      105/111.25\n",
       "678             NaN\n",
       "679      105/110.30\n",
       "680      105/110.40\n",
       "681             NaN\n",
       "682      105/112.20\n",
       "683      105/112.50\n",
       "684      105/112.65\n",
       "685             NaN\n",
       "686      105/112.35\n",
       "687             415\n",
       "688         415/104\n",
       "689         415/104\n",
       "690             NaN\n",
       "691           460/4\n",
       "692             NaN\n",
       "693           460/2\n",
       "694     460/3(a)(1)\n",
       "695     460/3(a)(2)\n",
       "696     460/3(b)(1)\n",
       "697             NaN\n",
       "698             NaN\n",
       "699    460/3(b)(10)\n",
       "700             NaN\n",
       "701             NaN\n",
       "702             NaN\n",
       "703    460/3(b)(11)\n",
       "704     460/3(b)(8)\n",
       "705        460/2(a)\n",
       "706     460/3(b)(2)\n",
       "707     460/3(b)(4)\n",
       "708    460/3(b)(3))\n",
       "709    460/3(b)(5))\n",
       "710    460/3(b)(6))\n",
       "711     460/3(b)(7)\n",
       "712    460/3(b)(9))\n",
       "713      105/112.50\n",
       "714             NaN\n",
       "715           460/6\n",
       "716         460/6.5\n",
       "717             NaN\n",
       "718         460/6.5\n",
       "719          460/17\n",
       "720           460/7\n",
       "Name: Section Code, dtype: object"
      ]
     },
     "execution_count": 7,
     "metadata": {},
     "output_type": "execute_result"
    }
   ],
   "source": [
    "subset_df1[\"Section Code\"].head(50)"
   ]
  },
  {
   "cell_type": "code",
   "execution_count": null,
   "id": "d2baa3cc",
   "metadata": {},
   "outputs": [],
   "source": []
  }
 ],
 "metadata": {
  "kernelspec": {
   "display_name": "Python 3",
   "language": "python",
   "name": "python3"
  },
  "language_info": {
   "codemirror_mode": {
    "name": "ipython",
    "version": 3
   },
   "file_extension": ".py",
   "mimetype": "text/x-python",
   "name": "python",
   "nbconvert_exporter": "python",
   "pygments_lexer": "ipython3",
   "version": "3.6.13"
  },
  "papermill": {
   "default_parameters": {},
   "duration": 4.748114,
   "end_time": "2023-12-11T14:34:59.399692",
   "environment_variables": {},
   "exception": null,
   "input_path": "/Users/Anubha/Downloads/Regulatory Project/Merging-ILLINOIS.ipynb",
   "output_path": "/Users/Anubha/Downloads/Regulatory Project/Merging-ILLINOIS.ipynb",
   "parameters": {},
   "start_time": "2023-12-11T14:34:54.651578",
   "version": "2.3.4"
  }
 },
 "nbformat": 4,
 "nbformat_minor": 5
}
