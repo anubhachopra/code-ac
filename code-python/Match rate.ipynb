{
 "cells": [
  {
   "cell_type": "code",
   "execution_count": 2,
   "id": "6785cde8",
   "metadata": {},
   "outputs": [],
   "source": [
    "import os\n",
    "import pandas as pd\n",
    "\n",
    "# Create an empty DataFrame to store the results\n",
    "results_df = pd.DataFrame(columns=['State', 'Total Non-Empty Sections', 'Total Non-Empty Section Codes', 'Match Percentage'])\n",
    "\n",
    "directory = 'C:/Users/ac4296/OneDrive - Drexel University/Anubha & Dr. T - Shared/Urban Regulatory projects/Urban Final'\n",
    "folder_path = f'{directory}/Output/Matching Urban to Drexel'\n",
    "output_path = f'{directory}/Output/Match Rate'\n",
    "\n",
    "# Loop through all files in the directory\n",
    "for file_name in os.listdir(folder_path):\n",
    "    if file_name.endswith(\".xlsx\"):\n",
    "        try:\n",
    "            df1 = pd.read_excel(os.path.join(folder_path, file_name), header=0, engine='openpyxl')\n",
    "            # rest of your code\n",
    "        except Exception as e:\n",
    "            print(f\"Error reading {file_name}: {e}\")\n",
    "            continue\n",
    "\n",
    "        # Extract state information from the file name\n",
    "        desired_state1 = file_name.split('_')[-1].split('.')[0].capitalize()\n",
    "\n",
    "        # Calculate match statistics\n",
    "        total_non_empty_section = df1['section'].count()\n",
    "        total_non_empty_section_code = df1['Section Code'].count()\n",
    "\n",
    "        # Calculate match percentage\n",
    "        match_percentage = (total_non_empty_section / total_non_empty_section_code) * 100\n",
    "\n",
    "        # Append results to the DataFrame\n",
    "        results_df = results_df.append({\n",
    "            'State': desired_state1,\n",
    "            'Total Non-Empty Sections': total_non_empty_section,\n",
    "            'Total Non-Empty Section Codes': total_non_empty_section_code,\n",
    "            'Match Percentage': match_percentage\n",
    "        }, ignore_index=True)\n",
    "\n",
    "# Save the results to an Excel file\n",
    "results_df.to_csv(f'{output_path}/match_percentages.csv', index=False)\n"
   ]
  },
  {
   "cell_type": "code",
   "execution_count": null,
   "id": "99bacdbd",
   "metadata": {},
   "outputs": [],
   "source": []
  }
 ],
 "metadata": {
  "kernelspec": {
   "display_name": "Python 3",
   "language": "python",
   "name": "python3"
  },
  "language_info": {
   "codemirror_mode": {
    "name": "ipython",
    "version": 3
   },
   "file_extension": ".py",
   "mimetype": "text/x-python",
   "name": "python",
   "nbconvert_exporter": "python",
   "pygments_lexer": "ipython3",
   "version": "3.6.13"
  }
 },
 "nbformat": 4,
 "nbformat_minor": 5
}
